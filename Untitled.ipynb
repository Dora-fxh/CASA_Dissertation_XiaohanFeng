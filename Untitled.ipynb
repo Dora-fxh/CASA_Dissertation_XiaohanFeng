{
 "cells": [
  {
   "cell_type": "code",
   "execution_count": 3,
   "metadata": {},
   "outputs": [],
   "source": [
    "import shap\n",
    "import pandas as pd\n",
    "import sklearn as sk\n",
    "import matplotlib.pyplot as plt\n",
    "from matplotlib.colors import ListedColormap\n",
    "import numpy as np\n",
    "# import eli5"
   ]
  },
  {
   "cell_type": "code",
   "execution_count": 2,
   "metadata": {},
   "outputs": [
    {
     "name": "stdout",
     "output_type": "stream",
     "text": [
      "Collecting shap\n",
      "  Downloading shap-0.39.0.tar.gz (356 kB)\n",
      "\u001b[K     |████████████████████████████████| 356 kB 102 kB/s eta 0:00:016     |███████████████████▎            | 215 kB 119 kB/s eta 0:00:02\n",
      "\u001b[?25hRequirement already satisfied: numpy in /opt/conda/envs/sds2020/lib/python3.7/site-packages (from shap) (1.19.1)\n",
      "Requirement already satisfied: scipy in /opt/conda/envs/sds2020/lib/python3.7/site-packages (from shap) (1.5.2)\n",
      "Requirement already satisfied: scikit-learn in /opt/conda/envs/sds2020/lib/python3.7/site-packages (from shap) (0.23.2)\n",
      "Requirement already satisfied: pandas in /opt/conda/envs/sds2020/lib/python3.7/site-packages (from shap) (1.1.2)\n",
      "Requirement already satisfied: tqdm>4.25.0 in /opt/conda/envs/sds2020/lib/python3.7/site-packages (from shap) (4.49.0)\n",
      "Collecting slicer==0.0.7\n",
      "  Downloading slicer-0.0.7-py3-none-any.whl (14 kB)\n",
      "Requirement already satisfied: numba in /opt/conda/envs/sds2020/lib/python3.7/site-packages (from shap) (0.51.2)\n",
      "Requirement already satisfied: cloudpickle in /opt/conda/envs/sds2020/lib/python3.7/site-packages (from shap) (1.6.0)\n",
      "Requirement already satisfied: threadpoolctl>=2.0.0 in /opt/conda/envs/sds2020/lib/python3.7/site-packages (from scikit-learn->shap) (2.1.0)\n",
      "Requirement already satisfied: joblib>=0.11 in /opt/conda/envs/sds2020/lib/python3.7/site-packages (from scikit-learn->shap) (0.16.0)\n",
      "Requirement already satisfied: pytz>=2017.2 in /opt/conda/envs/sds2020/lib/python3.7/site-packages (from pandas->shap) (2020.1)\n",
      "Requirement already satisfied: python-dateutil>=2.7.3 in /opt/conda/envs/sds2020/lib/python3.7/site-packages (from pandas->shap) (2.8.0)\n",
      "Requirement already satisfied: setuptools in /opt/conda/envs/sds2020/lib/python3.7/site-packages (from numba->shap) (49.6.0.post20200814)\n",
      "Requirement already satisfied: llvmlite<0.35,>=0.34.0.dev0 in /opt/conda/envs/sds2020/lib/python3.7/site-packages (from numba->shap) (0.34.0)\n",
      "Requirement already satisfied: six>=1.5 in /opt/conda/envs/sds2020/lib/python3.7/site-packages (from python-dateutil>=2.7.3->pandas->shap) (1.15.0)\n",
      "Building wheels for collected packages: shap\n",
      "  Building wheel for shap (setup.py) ... \u001b[?25ldone\n",
      "\u001b[?25h  Created wheel for shap: filename=shap-0.39.0-cp37-cp37m-linux_x86_64.whl size=544797 sha256=88ea45904dbe05c3d73a5aa90a6113b6f27bb17dcd9d6cec8f9809601e852b8d\n",
      "  Stored in directory: /home/jovyan/.cache/pip/wheels/ca/25/8f/6ae5df62c32651cd719e972e738a8aaa4a87414c4d2b14c9c0\n",
      "Successfully built shap\n",
      "Installing collected packages: slicer, shap\n",
      "Successfully installed shap-0.39.0 slicer-0.0.7\n",
      "Note: you may need to restart the kernel to use updated packages.\n"
     ]
    }
   ],
   "source": [
    "#pip install \"shap\""
   ]
  },
  {
   "cell_type": "code",
   "execution_count": 4,
   "metadata": {},
   "outputs": [],
   "source": [
    "# Read data\n",
    "IndicesPd = pd.read_excel(\"File_5_-_IoD2019_Scores.xlsx\", sheet_name=\"IoD2019 Scores\", header= 0)"
   ]
  },
  {
   "cell_type": "code",
   "execution_count": 5,
   "metadata": {},
   "outputs": [
    {
     "data": {
      "text/plain": [
       "Index(['LSOA code (2011)', 'LSOA name (2011)',\n",
       "       'Local Authority District code (2019)',\n",
       "       'Local Authority District name (2019)',\n",
       "       'Index of Multiple Deprivation (IMD) Score', 'Income Score (rate)',\n",
       "       'Employment Score (rate)', 'Education, Skills and Training Score',\n",
       "       'Health Deprivation and Disability Score', 'Crime Score',\n",
       "       'Barriers to Housing and Services Score', 'Living Environment Score',\n",
       "       'Income Deprivation Affecting Children Index (IDACI) Score (rate)',\n",
       "       'Income Deprivation Affecting Older People (IDAOPI) Score (rate)',\n",
       "       'Children and Young People Sub-domain Score',\n",
       "       'Adult Skills Sub-domain Score',\n",
       "       'Geographical Barriers Sub-domain Score',\n",
       "       'Wider Barriers Sub-domain Score', 'Indoors Sub-domain Score',\n",
       "       'Outdoors Sub-domain Score'],\n",
       "      dtype='object')"
      ]
     },
     "execution_count": 5,
     "metadata": {},
     "output_type": "execute_result"
    }
   ],
   "source": [
    "IndicesPd.columns"
   ]
  },
  {
   "cell_type": "code",
   "execution_count": 6,
   "metadata": {},
   "outputs": [],
   "source": [
    "y = IndicesPd[\"Index of Multiple Deprivation (IMD) Score\"]\n",
    "income_score = IndicesPd['Income Score (rate)']\n",
    "employment_score = IndicesPd['Employment Score (rate)']\n",
    "edu_skill_train_score = IndicesPd['Education, Skills and Training Score']\n",
    "health_scores = IndicesPd['Health Deprivation and Disability Score']\n",
    "crime_scores = IndicesPd['Crime Score']\n",
    "house_service_scores = IndicesPd['Barriers to Housing and Services Score']\n",
    "live_environ_scores=IndicesPd['Living Environment Score']\n",
    "X = pd.concat([income_score, employment_score,edu_skill_train_score,health_scores, crime_scores, house_service_scores, live_environ_scores] , axis=1)"
   ]
  },
  {
   "cell_type": "code",
   "execution_count": 9,
   "metadata": {},
   "outputs": [
    {
     "data": {
      "text/html": [
       "<div>\n",
       "<style scoped>\n",
       "    .dataframe tbody tr th:only-of-type {\n",
       "        vertical-align: middle;\n",
       "    }\n",
       "\n",
       "    .dataframe tbody tr th {\n",
       "        vertical-align: top;\n",
       "    }\n",
       "\n",
       "    .dataframe thead th {\n",
       "        text-align: right;\n",
       "    }\n",
       "</style>\n",
       "<table border=\"1\" class=\"dataframe\">\n",
       "  <thead>\n",
       "    <tr style=\"text-align: right;\">\n",
       "      <th></th>\n",
       "      <th>Income Score (rate)</th>\n",
       "      <th>Employment Score (rate)</th>\n",
       "      <th>Education, Skills and Training Score</th>\n",
       "      <th>Health Deprivation and Disability Score</th>\n",
       "      <th>Crime Score</th>\n",
       "      <th>Barriers to Housing and Services Score</th>\n",
       "      <th>Living Environment Score</th>\n",
       "    </tr>\n",
       "  </thead>\n",
       "  <tbody>\n",
       "    <tr>\n",
       "      <th>0</th>\n",
       "      <td>0.007</td>\n",
       "      <td>0.010</td>\n",
       "      <td>0.024</td>\n",
       "      <td>-1.654</td>\n",
       "      <td>-2.012</td>\n",
       "      <td>29.472</td>\n",
       "      <td>31.873</td>\n",
       "    </tr>\n",
       "    <tr>\n",
       "      <th>1</th>\n",
       "      <td>0.034</td>\n",
       "      <td>0.027</td>\n",
       "      <td>0.063</td>\n",
       "      <td>-1.115</td>\n",
       "      <td>-2.343</td>\n",
       "      <td>24.412</td>\n",
       "      <td>23.084</td>\n",
       "    </tr>\n",
       "    <tr>\n",
       "      <th>2</th>\n",
       "      <td>0.086</td>\n",
       "      <td>0.086</td>\n",
       "      <td>5.804</td>\n",
       "      <td>-0.102</td>\n",
       "      <td>-1.032</td>\n",
       "      <td>40.103</td>\n",
       "      <td>40.535</td>\n",
       "    </tr>\n",
       "    <tr>\n",
       "      <th>3</th>\n",
       "      <td>0.211</td>\n",
       "      <td>0.136</td>\n",
       "      <td>22.260</td>\n",
       "      <td>-0.121</td>\n",
       "      <td>-1.317</td>\n",
       "      <td>39.900</td>\n",
       "      <td>28.979</td>\n",
       "    </tr>\n",
       "    <tr>\n",
       "      <th>4</th>\n",
       "      <td>0.117</td>\n",
       "      <td>0.059</td>\n",
       "      <td>14.798</td>\n",
       "      <td>-0.359</td>\n",
       "      <td>-0.147</td>\n",
       "      <td>45.171</td>\n",
       "      <td>26.888</td>\n",
       "    </tr>\n",
       "    <tr>\n",
       "      <th>...</th>\n",
       "      <td>...</td>\n",
       "      <td>...</td>\n",
       "      <td>...</td>\n",
       "      <td>...</td>\n",
       "      <td>...</td>\n",
       "      <td>...</td>\n",
       "      <td>...</td>\n",
       "    </tr>\n",
       "    <tr>\n",
       "      <th>32839</th>\n",
       "      <td>0.470</td>\n",
       "      <td>0.341</td>\n",
       "      <td>73.723</td>\n",
       "      <td>2.361</td>\n",
       "      <td>1.316</td>\n",
       "      <td>16.867</td>\n",
       "      <td>20.426</td>\n",
       "    </tr>\n",
       "    <tr>\n",
       "      <th>32840</th>\n",
       "      <td>0.362</td>\n",
       "      <td>0.280</td>\n",
       "      <td>59.571</td>\n",
       "      <td>1.665</td>\n",
       "      <td>1.015</td>\n",
       "      <td>19.411</td>\n",
       "      <td>12.584</td>\n",
       "    </tr>\n",
       "    <tr>\n",
       "      <th>32841</th>\n",
       "      <td>0.099</td>\n",
       "      <td>0.073</td>\n",
       "      <td>11.133</td>\n",
       "      <td>0.823</td>\n",
       "      <td>0.054</td>\n",
       "      <td>4.477</td>\n",
       "      <td>58.942</td>\n",
       "    </tr>\n",
       "    <tr>\n",
       "      <th>32842</th>\n",
       "      <td>0.396</td>\n",
       "      <td>0.291</td>\n",
       "      <td>64.836</td>\n",
       "      <td>1.828</td>\n",
       "      <td>0.314</td>\n",
       "      <td>11.968</td>\n",
       "      <td>57.424</td>\n",
       "    </tr>\n",
       "    <tr>\n",
       "      <th>32843</th>\n",
       "      <td>0.273</td>\n",
       "      <td>0.227</td>\n",
       "      <td>18.633</td>\n",
       "      <td>1.768</td>\n",
       "      <td>1.445</td>\n",
       "      <td>20.646</td>\n",
       "      <td>53.451</td>\n",
       "    </tr>\n",
       "  </tbody>\n",
       "</table>\n",
       "<p>32844 rows × 7 columns</p>\n",
       "</div>"
      ],
      "text/plain": [
       "       Income Score (rate)  Employment Score (rate)  \\\n",
       "0                    0.007                    0.010   \n",
       "1                    0.034                    0.027   \n",
       "2                    0.086                    0.086   \n",
       "3                    0.211                    0.136   \n",
       "4                    0.117                    0.059   \n",
       "...                    ...                      ...   \n",
       "32839                0.470                    0.341   \n",
       "32840                0.362                    0.280   \n",
       "32841                0.099                    0.073   \n",
       "32842                0.396                    0.291   \n",
       "32843                0.273                    0.227   \n",
       "\n",
       "       Education, Skills and Training Score  \\\n",
       "0                                     0.024   \n",
       "1                                     0.063   \n",
       "2                                     5.804   \n",
       "3                                    22.260   \n",
       "4                                    14.798   \n",
       "...                                     ...   \n",
       "32839                                73.723   \n",
       "32840                                59.571   \n",
       "32841                                11.133   \n",
       "32842                                64.836   \n",
       "32843                                18.633   \n",
       "\n",
       "       Health Deprivation and Disability Score  Crime Score  \\\n",
       "0                                       -1.654       -2.012   \n",
       "1                                       -1.115       -2.343   \n",
       "2                                       -0.102       -1.032   \n",
       "3                                       -0.121       -1.317   \n",
       "4                                       -0.359       -0.147   \n",
       "...                                        ...          ...   \n",
       "32839                                    2.361        1.316   \n",
       "32840                                    1.665        1.015   \n",
       "32841                                    0.823        0.054   \n",
       "32842                                    1.828        0.314   \n",
       "32843                                    1.768        1.445   \n",
       "\n",
       "       Barriers to Housing and Services Score  Living Environment Score  \n",
       "0                                      29.472                    31.873  \n",
       "1                                      24.412                    23.084  \n",
       "2                                      40.103                    40.535  \n",
       "3                                      39.900                    28.979  \n",
       "4                                      45.171                    26.888  \n",
       "...                                       ...                       ...  \n",
       "32839                                  16.867                    20.426  \n",
       "32840                                  19.411                    12.584  \n",
       "32841                                   4.477                    58.942  \n",
       "32842                                  11.968                    57.424  \n",
       "32843                                  20.646                    53.451  \n",
       "\n",
       "[32844 rows x 7 columns]"
      ]
     },
     "execution_count": 9,
     "metadata": {},
     "output_type": "execute_result"
    }
   ],
   "source": [
    "X"
   ]
  },
  {
   "cell_type": "code",
   "execution_count": 8,
   "metadata": {},
   "outputs": [
    {
     "data": {
      "text/plain": [
       "RandomForestRegressor(random_state=42)"
      ]
     },
     "execution_count": 8,
     "metadata": {},
     "output_type": "execute_result"
    }
   ],
   "source": [
    "mod = sk.ensemble.RandomForestRegressor(n_estimators = 100, random_state = 42)\n",
    "mod.fit(X,y)\n",
    "\n",
    "# explainer = shap.TreeExplainer(mod, X, model_output = \"margin\", feature_pertubation = \"interventional\")\n",
    "# shap_values = explainer.shap_values(X)"
   ]
  },
  {
   "cell_type": "code",
   "execution_count": 10,
   "metadata": {},
   "outputs": [],
   "source": [
    "# explainer = shap.TreeExplainer(mod, X, model_output = \"margin\", feature_pertubation = \"interventional\")\n",
    "explainer = shap.TreeExplainer(mod)"
   ]
  },
  {
   "cell_type": "code",
   "execution_count": null,
   "metadata": {},
   "outputs": [],
   "source": [
    "shap_values = explainer.shap_values(X)"
   ]
  },
  {
   "cell_type": "code",
   "execution_count": 1,
   "metadata": {},
   "outputs": [
    {
     "ename": "NameError",
     "evalue": "name 'shap' is not defined",
     "output_type": "error",
     "traceback": [
      "\u001b[0;31m---------------------------------------------------------------------------\u001b[0m",
      "\u001b[0;31mNameError\u001b[0m                                 Traceback (most recent call last)",
      "\u001b[0;32m<ipython-input-1-579284089981>\u001b[0m in \u001b[0;36m<module>\u001b[0;34m\u001b[0m\n\u001b[0;32m----> 1\u001b[0;31m \u001b[0mexplainer\u001b[0m \u001b[0;34m=\u001b[0m \u001b[0mshap\u001b[0m\u001b[0;34m.\u001b[0m\u001b[0mTreeExplainer\u001b[0m\u001b[0;34m(\u001b[0m\u001b[0mmod\u001b[0m\u001b[0;34m,\u001b[0m \u001b[0mX\u001b[0m\u001b[0;34m,\u001b[0m \u001b[0mmodel_output\u001b[0m \u001b[0;34m=\u001b[0m \u001b[0;34m\"margin\"\u001b[0m\u001b[0;34m,\u001b[0m \u001b[0mfeature_pertubation\u001b[0m \u001b[0;34m=\u001b[0m \u001b[0;34m\"interventional\"\u001b[0m\u001b[0;34m)\u001b[0m\u001b[0;34m\u001b[0m\u001b[0;34m\u001b[0m\u001b[0m\n\u001b[0m",
      "\u001b[0;31mNameError\u001b[0m: name 'shap' is not defined"
     ]
    }
   ],
   "source": [
    "# visualize the first prediction's explanation \n",
    "shap.initjs()\n",
    "shap.force_plot(explainer.expected_value, shap_values[0,:], X.iloc[0,:])"
   ]
  },
  {
   "cell_type": "code",
   "execution_count": 8,
   "metadata": {},
   "outputs": [
    {
     "ename": "NameError",
     "evalue": "name 'explainer' is not defined",
     "output_type": "error",
     "traceback": [
      "\u001b[0;31m---------------------------------------------------------------------------\u001b[0m",
      "\u001b[0;31mNameError\u001b[0m                                 Traceback (most recent call last)",
      "\u001b[0;32m<ipython-input-8-47404bb29dfb>\u001b[0m in \u001b[0;36m<module>\u001b[0;34m\u001b[0m\n\u001b[1;32m      2\u001b[0m \u001b[0;34m\u001b[0m\u001b[0m\n\u001b[1;32m      3\u001b[0m \u001b[0;31m# Explain individual predictions\u001b[0m\u001b[0;34m\u001b[0m\u001b[0;34m\u001b[0m\u001b[0;34m\u001b[0m\u001b[0m\n\u001b[0;32m----> 4\u001b[0;31m \u001b[0mshap\u001b[0m\u001b[0;34m.\u001b[0m\u001b[0mforce_plot\u001b[0m\u001b[0;34m(\u001b[0m\u001b[0mexplainer\u001b[0m\u001b[0;34m.\u001b[0m\u001b[0mexpected_value\u001b[0m\u001b[0;34m[\u001b[0m\u001b[0;36m1\u001b[0m\u001b[0;34m]\u001b[0m\u001b[0;34m,\u001b[0m \u001b[0mshap_values\u001b[0m\u001b[0;34m[\u001b[0m\u001b[0;36m1\u001b[0m\u001b[0;34m]\u001b[0m\u001b[0;34m[\u001b[0m\u001b[0mi\u001b[0m\u001b[0;34m,\u001b[0m\u001b[0;34m:\u001b[0m\u001b[0;34m]\u001b[0m\u001b[0;34m,\u001b[0m \u001b[0mX\u001b[0m\u001b[0;34m.\u001b[0m\u001b[0miloc\u001b[0m\u001b[0;34m[\u001b[0m\u001b[0mi\u001b[0m\u001b[0;34m,\u001b[0m\u001b[0;34m:\u001b[0m\u001b[0;34m]\u001b[0m\u001b[0;34m,\u001b[0m \u001b[0mmatplotlib\u001b[0m \u001b[0;34m=\u001b[0m \u001b[0;32mTrue\u001b[0m\u001b[0;34m)\u001b[0m\u001b[0;34m\u001b[0m\u001b[0;34m\u001b[0m\u001b[0m\n\u001b[0m",
      "\u001b[0;31mNameError\u001b[0m: name 'explainer' is not defined"
     ]
    }
   ],
   "source": [
    "\n",
    "i = 18\n",
    "\n",
    "# Explain individual predictions\n",
    "shap.force_plot(explainer.expected_value[1], shap_values[1][i,:], X.iloc[i,:], matplotlib = True)"
   ]
  },
  {
   "cell_type": "code",
   "execution_count": null,
   "metadata": {},
   "outputs": [],
   "source": [
    "# visualize the training set predictions\n",
    "shap.force_plot(explainer.expected_value, shap_values, X)"
   ]
  },
  {
   "cell_type": "code",
   "execution_count": null,
   "metadata": {},
   "outputs": [],
   "source": [
    "shap_values = shap.TreeExplainer(model).shap_values(X)\n",
    "shap.summary_plot(shap_values, X, plot_type=\"bar\")"
   ]
  },
  {
   "cell_type": "code",
   "execution_count": null,
   "metadata": {},
   "outputs": [],
   "source": [
    "shap.summary_plot(shap_values, X)"
   ]
  },
  {
   "cell_type": "code",
   "execution_count": null,
   "metadata": {},
   "outputs": [],
   "source": [
    "shap.dependence_plot('Income Score (rate)', shap_values, X_train)"
   ]
  }
 ],
 "metadata": {
  "kernelspec": {
   "display_name": "Python 3",
   "language": "python",
   "name": "python3"
  },
  "language_info": {
   "codemirror_mode": {
    "name": "ipython",
    "version": 3
   },
   "file_extension": ".py",
   "mimetype": "text/x-python",
   "name": "python",
   "nbconvert_exporter": "python",
   "pygments_lexer": "ipython3",
   "version": "3.7.8"
  }
 },
 "nbformat": 4,
 "nbformat_minor": 4
}
