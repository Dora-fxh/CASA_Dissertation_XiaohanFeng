{
 "cells": [
  {
   "cell_type": "code",
   "execution_count": 81,
   "metadata": {},
   "outputs": [],
   "source": [
    "import shap\n",
    "import pandas as pd\n",
    "import sklearn as sk\n",
    "import matplotlib.pyplot as plt\n",
    "from matplotlib.colors import ListedColormap\n",
    "import numpy as np\n",
    "import math\n",
    "# import eli5"
   ]
  },
  {
   "cell_type": "code",
   "execution_count": 82,
   "metadata": {},
   "outputs": [],
   "source": [
    "#pip install \"shap\""
   ]
  },
  {
   "cell_type": "code",
   "execution_count": 83,
   "metadata": {},
   "outputs": [],
   "source": [
    "# Read data\n",
    "IndicesPd = pd.read_excel(\"File_5_-_IoD2019_Scores.xlsx\", sheet_name=\"IoD2019 Scores\", header= 0)"
   ]
  },
  {
   "cell_type": "code",
   "execution_count": 84,
   "metadata": {},
   "outputs": [
    {
     "data": {
      "text/plain": [
       "Index(['LSOA code (2011)', 'LSOA name (2011)',\n",
       "       'Local Authority District code (2019)',\n",
       "       'Local Authority District name (2019)', 'Unnamed: 4', 'Unnamed: 5',\n",
       "       'Index of Multiple Deprivation (IMD) Score', 'Unnamed: 7',\n",
       "       'Income Score (rate)', 'Employment Score (rate)',\n",
       "       'Education, Skills and Training Score',\n",
       "       'Health Deprivation and Disability Score', 'Crime Score',\n",
       "       'Barriers to Housing and Services Score', 'Living Environment Score',\n",
       "       'Income Deprivation Affecting Children Index (IDACI) Score (rate)',\n",
       "       'Income Deprivation Affecting Older People (IDAOPI) Score (rate)',\n",
       "       'Children and Young People Sub-domain Score',\n",
       "       'Adult Skills Sub-domain Score',\n",
       "       'Geographical Barriers Sub-domain Score',\n",
       "       'Wider Barriers Sub-domain Score', 'Indoors Sub-domain Score',\n",
       "       'Outdoors Sub-domain Score', 'Income Rank (where 1 is most deprived)',\n",
       "       '32845-trueRank'],\n",
       "      dtype='object')"
      ]
     },
     "execution_count": 84,
     "metadata": {},
     "output_type": "execute_result"
    }
   ],
   "source": [
    "IndicesPd.columns"
   ]
  },
  {
   "cell_type": "code",
   "execution_count": 85,
   "metadata": {},
   "outputs": [],
   "source": [
    "y = IndicesPd[\"Index of Multiple Deprivation (IMD) Score\"]\n",
    "income_score = IndicesPd['Income Score (rate)']\n",
    "employment_score = IndicesPd['Employment Score (rate)']\n",
    "edu_skill_train_score = IndicesPd['Education, Skills and Training Score']\n",
    "health_scores = IndicesPd['Health Deprivation and Disability Score']\n",
    "crime_scores = IndicesPd['Crime Score']\n",
    "house_service_scores = IndicesPd['Barriers to Housing and Services Score']\n",
    "live_environ_scores=IndicesPd['Living Environment Score']\n",
    "X = pd.concat([income_score, employment_score,edu_skill_train_score,health_scores, crime_scores, house_service_scores, live_environ_scores] , axis=1)"
   ]
  },
  {
   "cell_type": "code",
   "execution_count": 86,
   "metadata": {},
   "outputs": [],
   "source": [
    "#trueRank=IndicesPd['32845-trueRank']"
   ]
  },
  {
   "cell_type": "code",
   "execution_count": 87,
   "metadata": {},
   "outputs": [],
   "source": [
    "ranks=X.rank()"
   ]
  },
  {
   "cell_type": "code",
   "execution_count": 88,
   "metadata": {},
   "outputs": [
    {
     "data": {
      "text/plain": [
       "32407     1.0\n",
       "32731     4.5\n",
       "7659      4.5\n",
       "4568      4.5\n",
       "12974     4.5\n",
       "2838      4.5\n",
       "17463     4.5\n",
       "32729     9.0\n",
       "13949     9.0\n",
       "2757      9.0\n",
       "31825    15.5\n",
       "31822    15.5\n",
       "2800     15.5\n",
       "2773     15.5\n",
       "24442    15.5\n",
       "29888    15.5\n",
       "29685    15.5\n",
       "27857    15.5\n",
       "14269    15.5\n",
       "7656     15.5\n",
       "32024    27.5\n",
       "2754     27.5\n",
       "2772     27.5\n",
       "32071    27.5\n",
       "32642    27.5\n",
       "9380     27.5\n",
       "32649    27.5\n",
       "32706    27.5\n",
       "28820    27.5\n",
       "4571     27.5\n",
       "29889    27.5\n",
       "4570     27.5\n",
       "32752    27.5\n",
       "32748    27.5\n",
       "4569     41.0\n",
       "32170    41.0\n",
       "27838    41.0\n",
       "27795    41.0\n",
       "32758    41.0\n",
       "2795     41.0\n",
       "8158     41.0\n",
       "4606     41.0\n",
       "4595     41.0\n",
       "4995     41.0\n",
       "4572     41.0\n",
       "7661     41.0\n",
       "4567     41.0\n",
       "32756    53.5\n",
       "32477    53.5\n",
       "2835     53.5\n",
       "Name: Employment Score (rate), dtype: float64"
      ]
     },
     "execution_count": 88,
     "metadata": {},
     "output_type": "execute_result"
    }
   ],
   "source": [
    "ranks.iloc[:,1].sort_values().head(50)"
   ]
  },
  {
   "cell_type": "code",
   "execution_count": 89,
   "metadata": {},
   "outputs": [
    {
     "data": {
      "text/plain": [
       "4966    -0.081472\n",
       "11328   -0.080692\n",
       "9098    -0.072974\n",
       "12416   -0.072907\n",
       "9039    -0.072465\n",
       "           ...   \n",
       "1800     0.075258\n",
       "6560     0.077372\n",
       "30302    0.080056\n",
       "24239    0.081062\n",
       "2790     0.088025\n",
       "Name: Index of Multiple Deprivation (IMD) Score, Length: 32844, dtype: float64"
      ]
     },
     "execution_count": 89,
     "metadata": {},
     "output_type": "execute_result"
    }
   ],
   "source": [
    "x=-23*np.log((1-ranks/32844*(1-math.exp(-100/23))))\n",
    "IMD = np.dot(np.array([0.225,0.225,0.135,0.135,0.093,0.093,0.093]),np.array(x).T)\n",
    "# IMD = pd.DataFrame({\"IMD\":np.dot(np.array([0.225,0.225,0.135,0.135,0.093,0.093,0.093]),np.array(x).T)})    \n",
    "diff=y-IMD\n",
    "diff.sort_values(ascending=True)"
   ]
  },
  {
   "cell_type": "code",
   "execution_count": 90,
   "metadata": {},
   "outputs": [
    {
     "data": {
      "text/plain": [
       "count    32844.000000\n",
       "mean         0.000054\n",
       "std          0.023079\n",
       "min         -0.081472\n",
       "25%         -0.015913\n",
       "50%          0.000179\n",
       "75%          0.015930\n",
       "max          0.088025\n",
       "Name: Index of Multiple Deprivation (IMD) Score, dtype: float64"
      ]
     },
     "execution_count": 90,
     "metadata": {},
     "output_type": "execute_result"
    }
   ],
   "source": [
    "diff.describe()"
   ]
  },
  {
   "cell_type": "code",
   "execution_count": 91,
   "metadata": {},
   "outputs": [
    {
     "data": {
      "text/html": [
       "<div>\n",
       "<style scoped>\n",
       "    .dataframe tbody tr th:only-of-type {\n",
       "        vertical-align: middle;\n",
       "    }\n",
       "\n",
       "    .dataframe tbody tr th {\n",
       "        vertical-align: top;\n",
       "    }\n",
       "\n",
       "    .dataframe thead th {\n",
       "        text-align: right;\n",
       "    }\n",
       "</style>\n",
       "<table border=\"1\" class=\"dataframe\">\n",
       "  <thead>\n",
       "    <tr style=\"text-align: right;\">\n",
       "      <th></th>\n",
       "      <th>calculated_IMD_score</th>\n",
       "    </tr>\n",
       "  </thead>\n",
       "  <tbody>\n",
       "    <tr>\n",
       "      <th>0</th>\n",
       "      <td>6.206461</td>\n",
       "    </tr>\n",
       "    <tr>\n",
       "      <th>1</th>\n",
       "      <td>5.113783</td>\n",
       "    </tr>\n",
       "    <tr>\n",
       "      <th>2</th>\n",
       "      <td>19.413750</td>\n",
       "    </tr>\n",
       "    <tr>\n",
       "      <th>3</th>\n",
       "      <td>28.623760</td>\n",
       "    </tr>\n",
       "    <tr>\n",
       "      <th>4</th>\n",
       "      <td>19.795692</td>\n",
       "    </tr>\n",
       "    <tr>\n",
       "      <th>...</th>\n",
       "      <td>...</td>\n",
       "    </tr>\n",
       "    <tr>\n",
       "      <th>32839</th>\n",
       "      <td>74.477868</td>\n",
       "    </tr>\n",
       "    <tr>\n",
       "      <th>32840</th>\n",
       "      <td>59.615837</td>\n",
       "    </tr>\n",
       "    <tr>\n",
       "      <th>32841</th>\n",
       "      <td>21.882057</td>\n",
       "    </tr>\n",
       "    <tr>\n",
       "      <th>32842</th>\n",
       "      <td>66.725581</td>\n",
       "    </tr>\n",
       "    <tr>\n",
       "      <th>32843</th>\n",
       "      <td>52.230729</td>\n",
       "    </tr>\n",
       "  </tbody>\n",
       "</table>\n",
       "<p>32844 rows × 1 columns</p>\n",
       "</div>"
      ],
      "text/plain": [
       "       calculated_IMD_score\n",
       "0                  6.206461\n",
       "1                  5.113783\n",
       "2                 19.413750\n",
       "3                 28.623760\n",
       "4                 19.795692\n",
       "...                     ...\n",
       "32839             74.477868\n",
       "32840             59.615837\n",
       "32841             21.882057\n",
       "32842             66.725581\n",
       "32843             52.230729\n",
       "\n",
       "[32844 rows x 1 columns]"
      ]
     },
     "execution_count": 91,
     "metadata": {},
     "output_type": "execute_result"
    }
   ],
   "source": [
    "IMD = pd.DataFrame({\"calculated_IMD_score\":IMD})\n",
    "IMD"
   ]
  },
  {
   "cell_type": "code",
   "execution_count": 92,
   "metadata": {},
   "outputs": [],
   "source": [
    "calculated_IMD_ranking=IMD.rank()\n",
    "calculated_IMD_ranking.columns=[\"calculated_IMD_ranking\"]"
   ]
  },
  {
   "cell_type": "code",
   "execution_count": 93,
   "metadata": {},
   "outputs": [
    {
     "data": {
      "text/html": [
       "<div>\n",
       "<style scoped>\n",
       "    .dataframe tbody tr th:only-of-type {\n",
       "        vertical-align: middle;\n",
       "    }\n",
       "\n",
       "    .dataframe tbody tr th {\n",
       "        vertical-align: top;\n",
       "    }\n",
       "\n",
       "    .dataframe thead th {\n",
       "        text-align: right;\n",
       "    }\n",
       "</style>\n",
       "<table border=\"1\" class=\"dataframe\">\n",
       "  <thead>\n",
       "    <tr style=\"text-align: right;\">\n",
       "      <th></th>\n",
       "      <th>calculated_IMD_score</th>\n",
       "      <th>calculated_IMD_ranking</th>\n",
       "    </tr>\n",
       "  </thead>\n",
       "  <tbody>\n",
       "    <tr>\n",
       "      <th>0</th>\n",
       "      <td>6.206461</td>\n",
       "      <td>3640.0</td>\n",
       "    </tr>\n",
       "    <tr>\n",
       "      <th>1</th>\n",
       "      <td>5.113783</td>\n",
       "      <td>2444.0</td>\n",
       "    </tr>\n",
       "    <tr>\n",
       "      <th>2</th>\n",
       "      <td>19.413750</td>\n",
       "      <td>17945.0</td>\n",
       "    </tr>\n",
       "    <tr>\n",
       "      <th>3</th>\n",
       "      <td>28.623760</td>\n",
       "      <td>24157.0</td>\n",
       "    </tr>\n",
       "    <tr>\n",
       "      <th>4</th>\n",
       "      <td>19.795692</td>\n",
       "      <td>18309.0</td>\n",
       "    </tr>\n",
       "    <tr>\n",
       "      <th>...</th>\n",
       "      <td>...</td>\n",
       "      <td>...</td>\n",
       "    </tr>\n",
       "    <tr>\n",
       "      <th>32839</th>\n",
       "      <td>74.477868</td>\n",
       "      <td>32730.0</td>\n",
       "    </tr>\n",
       "    <tr>\n",
       "      <th>32840</th>\n",
       "      <td>59.615837</td>\n",
       "      <td>31901.0</td>\n",
       "    </tr>\n",
       "    <tr>\n",
       "      <th>32841</th>\n",
       "      <td>21.882057</td>\n",
       "      <td>19992.0</td>\n",
       "    </tr>\n",
       "    <tr>\n",
       "      <th>32842</th>\n",
       "      <td>66.725581</td>\n",
       "      <td>32425.0</td>\n",
       "    </tr>\n",
       "    <tr>\n",
       "      <th>32843</th>\n",
       "      <td>52.230729</td>\n",
       "      <td>31004.0</td>\n",
       "    </tr>\n",
       "  </tbody>\n",
       "</table>\n",
       "<p>32844 rows × 2 columns</p>\n",
       "</div>"
      ],
      "text/plain": [
       "       calculated_IMD_score  calculated_IMD_ranking\n",
       "0                  6.206461                  3640.0\n",
       "1                  5.113783                  2444.0\n",
       "2                 19.413750                 17945.0\n",
       "3                 28.623760                 24157.0\n",
       "4                 19.795692                 18309.0\n",
       "...                     ...                     ...\n",
       "32839             74.477868                 32730.0\n",
       "32840             59.615837                 31901.0\n",
       "32841             21.882057                 19992.0\n",
       "32842             66.725581                 32425.0\n",
       "32843             52.230729                 31004.0\n",
       "\n",
       "[32844 rows x 2 columns]"
      ]
     },
     "execution_count": 93,
     "metadata": {},
     "output_type": "execute_result"
    }
   ],
   "source": [
    "IMDs= pd.concat([IMD,calculated_IMD_ranking],axis=1)\n",
    "IMDs"
   ]
  },
  {
   "cell_type": "code",
   "execution_count": 94,
   "metadata": {},
   "outputs": [
    {
     "data": {
      "text/html": [
       "<div>\n",
       "<style scoped>\n",
       "    .dataframe tbody tr th:only-of-type {\n",
       "        vertical-align: middle;\n",
       "    }\n",
       "\n",
       "    .dataframe tbody tr th {\n",
       "        vertical-align: top;\n",
       "    }\n",
       "\n",
       "    .dataframe thead th {\n",
       "        text-align: right;\n",
       "    }\n",
       "</style>\n",
       "<table border=\"1\" class=\"dataframe\">\n",
       "  <thead>\n",
       "    <tr style=\"text-align: right;\">\n",
       "      <th></th>\n",
       "      <th>calculated_IMD_score</th>\n",
       "      <th>calculated_IMD_ranking</th>\n",
       "    </tr>\n",
       "  </thead>\n",
       "  <tbody>\n",
       "    <tr>\n",
       "      <th>0</th>\n",
       "      <td>6.206461</td>\n",
       "      <td>3640.0</td>\n",
       "    </tr>\n",
       "    <tr>\n",
       "      <th>1</th>\n",
       "      <td>5.113783</td>\n",
       "      <td>2444.0</td>\n",
       "    </tr>\n",
       "    <tr>\n",
       "      <th>2</th>\n",
       "      <td>19.413750</td>\n",
       "      <td>17945.0</td>\n",
       "    </tr>\n",
       "    <tr>\n",
       "      <th>3</th>\n",
       "      <td>28.623760</td>\n",
       "      <td>24157.0</td>\n",
       "    </tr>\n",
       "    <tr>\n",
       "      <th>4</th>\n",
       "      <td>19.795692</td>\n",
       "      <td>18309.0</td>\n",
       "    </tr>\n",
       "    <tr>\n",
       "      <th>...</th>\n",
       "      <td>...</td>\n",
       "      <td>...</td>\n",
       "    </tr>\n",
       "    <tr>\n",
       "      <th>32839</th>\n",
       "      <td>74.477868</td>\n",
       "      <td>32730.0</td>\n",
       "    </tr>\n",
       "    <tr>\n",
       "      <th>32840</th>\n",
       "      <td>59.615837</td>\n",
       "      <td>31901.0</td>\n",
       "    </tr>\n",
       "    <tr>\n",
       "      <th>32841</th>\n",
       "      <td>21.882057</td>\n",
       "      <td>19992.0</td>\n",
       "    </tr>\n",
       "    <tr>\n",
       "      <th>32842</th>\n",
       "      <td>66.725581</td>\n",
       "      <td>32425.0</td>\n",
       "    </tr>\n",
       "    <tr>\n",
       "      <th>32843</th>\n",
       "      <td>52.230729</td>\n",
       "      <td>31004.0</td>\n",
       "    </tr>\n",
       "  </tbody>\n",
       "</table>\n",
       "<p>32844 rows × 2 columns</p>\n",
       "</div>"
      ],
      "text/plain": [
       "       calculated_IMD_score  calculated_IMD_ranking\n",
       "0                  6.206461                  3640.0\n",
       "1                  5.113783                  2444.0\n",
       "2                 19.413750                 17945.0\n",
       "3                 28.623760                 24157.0\n",
       "4                 19.795692                 18309.0\n",
       "...                     ...                     ...\n",
       "32839             74.477868                 32730.0\n",
       "32840             59.615837                 31901.0\n",
       "32841             21.882057                 19992.0\n",
       "32842             66.725581                 32425.0\n",
       "32843             52.230729                 31004.0\n",
       "\n",
       "[32844 rows x 2 columns]"
      ]
     },
     "execution_count": 94,
     "metadata": {},
     "output_type": "execute_result"
    }
   ],
   "source": [
    "IMDs= IMD.join(calculated_IMD_ranking)\n",
    "IMDs"
   ]
  },
  {
   "cell_type": "code",
   "execution_count": 104,
   "metadata": {},
   "outputs": [
    {
     "data": {
      "text/html": [
       "<div>\n",
       "<style scoped>\n",
       "    .dataframe tbody tr th:only-of-type {\n",
       "        vertical-align: middle;\n",
       "    }\n",
       "\n",
       "    .dataframe tbody tr th {\n",
       "        vertical-align: top;\n",
       "    }\n",
       "\n",
       "    .dataframe thead th {\n",
       "        text-align: right;\n",
       "    }\n",
       "</style>\n",
       "<table border=\"1\" class=\"dataframe\">\n",
       "  <thead>\n",
       "    <tr style=\"text-align: right;\">\n",
       "      <th></th>\n",
       "      <th>calculated_IMD_score</th>\n",
       "      <th>calculated_IMD_ranking</th>\n",
       "    </tr>\n",
       "  </thead>\n",
       "  <tbody>\n",
       "    <tr>\n",
       "      <th>12087</th>\n",
       "      <td>3.582422</td>\n",
       "      <td>1000.0</td>\n",
       "    </tr>\n",
       "  </tbody>\n",
       "</table>\n",
       "</div>"
      ],
      "text/plain": [
       "       calculated_IMD_score  calculated_IMD_ranking\n",
       "12087              3.582422                  1000.0"
      ]
     },
     "execution_count": 104,
     "metadata": {},
     "output_type": "execute_result"
    }
   ],
   "source": [
    "IMDs[IMDs.calculated_IMD_ranking==1000]"
   ]
  },
  {
   "cell_type": "code",
   "execution_count": 44,
   "metadata": {},
   "outputs": [],
   "source": [
    "IMDs.to_csv(\"IMDs.csv\")"
   ]
  },
  {
   "cell_type": "markdown",
   "metadata": {},
   "source": [
    "It's the end of the calculation for IMD.\n",
    "The next part is the TreeSHAP wrote before."
   ]
  },
  {
   "cell_type": "code",
   "execution_count": 8,
   "metadata": {},
   "outputs": [
    {
     "data": {
      "text/plain": [
       "RandomForestRegressor(random_state=42)"
      ]
     },
     "execution_count": 8,
     "metadata": {},
     "output_type": "execute_result"
    }
   ],
   "source": [
    "mod = sk.ensemble.RandomForestRegressor(n_estimators = 100, random_state = 42)\n",
    "mod.fit(X,y)\n",
    "\n",
    "# explainer = shap.TreeExplainer(mod, X, model_output = \"margin\", feature_pertubation = \"interventional\")\n",
    "# shap_values = explainer.shap_values(X)"
   ]
  },
  {
   "cell_type": "code",
   "execution_count": 10,
   "metadata": {},
   "outputs": [],
   "source": [
    "# explainer = shap.TreeExplainer(mod, X, model_output = \"margin\", feature_pertubation = \"interventional\")\n",
    "explainer = shap.TreeExplainer(mod)"
   ]
  },
  {
   "cell_type": "code",
   "execution_count": null,
   "metadata": {},
   "outputs": [],
   "source": [
    "shap_values = explainer.shap_values(X)"
   ]
  },
  {
   "cell_type": "code",
   "execution_count": 1,
   "metadata": {},
   "outputs": [
    {
     "ename": "NameError",
     "evalue": "name 'shap' is not defined",
     "output_type": "error",
     "traceback": [
      "\u001b[0;31m---------------------------------------------------------------------------\u001b[0m",
      "\u001b[0;31mNameError\u001b[0m                                 Traceback (most recent call last)",
      "\u001b[0;32m<ipython-input-1-579284089981>\u001b[0m in \u001b[0;36m<module>\u001b[0;34m\u001b[0m\n\u001b[0;32m----> 1\u001b[0;31m \u001b[0mexplainer\u001b[0m \u001b[0;34m=\u001b[0m \u001b[0mshap\u001b[0m\u001b[0;34m.\u001b[0m\u001b[0mTreeExplainer\u001b[0m\u001b[0;34m(\u001b[0m\u001b[0mmod\u001b[0m\u001b[0;34m,\u001b[0m \u001b[0mX\u001b[0m\u001b[0;34m,\u001b[0m \u001b[0mmodel_output\u001b[0m \u001b[0;34m=\u001b[0m \u001b[0;34m\"margin\"\u001b[0m\u001b[0;34m,\u001b[0m \u001b[0mfeature_pertubation\u001b[0m \u001b[0;34m=\u001b[0m \u001b[0;34m\"interventional\"\u001b[0m\u001b[0;34m)\u001b[0m\u001b[0;34m\u001b[0m\u001b[0;34m\u001b[0m\u001b[0m\n\u001b[0m",
      "\u001b[0;31mNameError\u001b[0m: name 'shap' is not defined"
     ]
    }
   ],
   "source": [
    "# visualize the first prediction's explanation \n",
    "shap.initjs()\n",
    "shap.force_plot(explainer.expected_value, shap_values[0,:], X.iloc[0,:])"
   ]
  },
  {
   "cell_type": "code",
   "execution_count": 8,
   "metadata": {},
   "outputs": [
    {
     "ename": "NameError",
     "evalue": "name 'explainer' is not defined",
     "output_type": "error",
     "traceback": [
      "\u001b[0;31m---------------------------------------------------------------------------\u001b[0m",
      "\u001b[0;31mNameError\u001b[0m                                 Traceback (most recent call last)",
      "\u001b[0;32m<ipython-input-8-47404bb29dfb>\u001b[0m in \u001b[0;36m<module>\u001b[0;34m\u001b[0m\n\u001b[1;32m      2\u001b[0m \u001b[0;34m\u001b[0m\u001b[0m\n\u001b[1;32m      3\u001b[0m \u001b[0;31m# Explain individual predictions\u001b[0m\u001b[0;34m\u001b[0m\u001b[0;34m\u001b[0m\u001b[0;34m\u001b[0m\u001b[0m\n\u001b[0;32m----> 4\u001b[0;31m \u001b[0mshap\u001b[0m\u001b[0;34m.\u001b[0m\u001b[0mforce_plot\u001b[0m\u001b[0;34m(\u001b[0m\u001b[0mexplainer\u001b[0m\u001b[0;34m.\u001b[0m\u001b[0mexpected_value\u001b[0m\u001b[0;34m[\u001b[0m\u001b[0;36m1\u001b[0m\u001b[0;34m]\u001b[0m\u001b[0;34m,\u001b[0m \u001b[0mshap_values\u001b[0m\u001b[0;34m[\u001b[0m\u001b[0;36m1\u001b[0m\u001b[0;34m]\u001b[0m\u001b[0;34m[\u001b[0m\u001b[0mi\u001b[0m\u001b[0;34m,\u001b[0m\u001b[0;34m:\u001b[0m\u001b[0;34m]\u001b[0m\u001b[0;34m,\u001b[0m \u001b[0mX\u001b[0m\u001b[0;34m.\u001b[0m\u001b[0miloc\u001b[0m\u001b[0;34m[\u001b[0m\u001b[0mi\u001b[0m\u001b[0;34m,\u001b[0m\u001b[0;34m:\u001b[0m\u001b[0;34m]\u001b[0m\u001b[0;34m,\u001b[0m \u001b[0mmatplotlib\u001b[0m \u001b[0;34m=\u001b[0m \u001b[0;32mTrue\u001b[0m\u001b[0;34m)\u001b[0m\u001b[0;34m\u001b[0m\u001b[0;34m\u001b[0m\u001b[0m\n\u001b[0m",
      "\u001b[0;31mNameError\u001b[0m: name 'explainer' is not defined"
     ]
    }
   ],
   "source": [
    "\n",
    "i = 18\n",
    "\n",
    "# Explain individual predictions\n",
    "shap.force_plot(explainer.expected_value[1], shap_values[1][i,:], X.iloc[i,:], matplotlib = True)"
   ]
  },
  {
   "cell_type": "code",
   "execution_count": null,
   "metadata": {},
   "outputs": [],
   "source": [
    "# visualize the training set predictions\n",
    "shap.force_plot(explainer.expected_value, shap_values, X)"
   ]
  },
  {
   "cell_type": "code",
   "execution_count": null,
   "metadata": {},
   "outputs": [],
   "source": [
    "shap_values = shap.TreeExplainer(model).shap_values(X)\n",
    "shap.summary_plot(shap_values, X, plot_type=\"bar\")"
   ]
  },
  {
   "cell_type": "code",
   "execution_count": null,
   "metadata": {},
   "outputs": [],
   "source": [
    "shap.summary_plot(shap_values, X)"
   ]
  },
  {
   "cell_type": "code",
   "execution_count": null,
   "metadata": {},
   "outputs": [],
   "source": [
    "shap.dependence_plot('Income Score (rate)', shap_values, X_train)"
   ]
  },
  {
   "cell_type": "code",
   "execution_count": null,
   "metadata": {},
   "outputs": [],
   "source": []
  }
 ],
 "metadata": {
  "kernelspec": {
   "display_name": "Python 3",
   "language": "python",
   "name": "python3"
  },
  "language_info": {
   "codemirror_mode": {
    "name": "ipython",
    "version": 3
   },
   "file_extension": ".py",
   "mimetype": "text/x-python",
   "name": "python",
   "nbconvert_exporter": "python",
   "pygments_lexer": "ipython3",
   "version": "3.8.5"
  }
 },
 "nbformat": 4,
 "nbformat_minor": 4
}
